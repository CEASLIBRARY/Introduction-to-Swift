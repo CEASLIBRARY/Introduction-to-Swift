{
  "nbformat": 4,
  "nbformat_minor": 0,
  "metadata": {
    "colab": {
      "name": "Python Speed.ipynb",
      "provenance": [],
      "authorship_tag": "ABX9TyN4W+vuKqlKAG6D5x3NyxxU",
      "include_colab_link": true
    },
    "kernelspec": {
      "name": "python3",
      "display_name": "Python 3"
    },
    "language_info": {
      "name": "python"
    }
  },
  "cells": [
    {
      "cell_type": "markdown",
      "metadata": {
        "id": "view-in-github",
        "colab_type": "text"
      },
      "source": [
        "<a href=\"https://colab.research.google.com/github/CEASLIBRARY/Introduction-to-Swift/blob/main/Python_Speed.ipynb\" target=\"_parent\"><img src=\"https://colab.research.google.com/assets/colab-badge.svg\" alt=\"Open In Colab\"/></a>"
      ]
    },
    {
      "cell_type": "code",
      "execution_count": null,
      "metadata": {
        "id": "w1505BjuvVhk"
      },
      "outputs": [],
      "source": [
        "import time"
      ]
    },
    {
      "cell_type": "code",
      "source": [
        "def fib(n):\n",
        "  if (n<2):\n",
        "    return n\n",
        "  else:\n",
        "    return fib(n-1)+fib(n-2)\n"
      ],
      "metadata": {
        "id": "f2qPHrg8wWk7"
      },
      "execution_count": null,
      "outputs": []
    },
    {
      "cell_type": "code",
      "source": [
        "t1 = time.time()\n",
        "print(fib(35))\n",
        "t2 = time.time()\n",
        "print((t2-t1),\" \", \"Seconds\")"
      ],
      "metadata": {
        "id": "-3uIK_-TwKLF"
      },
      "execution_count": null,
      "outputs": []
    }
  ]
}