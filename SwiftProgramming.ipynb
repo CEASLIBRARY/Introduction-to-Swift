{
  "cells": [
    {
      "cell_type": "markdown",
      "metadata": {
        "id": "view-in-github",
        "colab_type": "text"
      },
      "source": [
        "<a href=\"https://colab.research.google.com/github/CEASLIBRARY/Introduction-to-Swift/blob/main/SwiftProgramming.ipynb\" target=\"_parent\"><img src=\"https://colab.research.google.com/assets/colab-badge.svg\" alt=\"Open In Colab\"/></a>"
      ]
    },
    {
      "cell_type": "markdown",
      "metadata": {
        "id": "ZGiUS7l5Jlif"
      },
      "source": [
        "<img src=\"https://developer.apple.com/swift/images/swift-og.png\" height=150 width =150 align = \"right\"  /> \n",
        "\n",
        "# **Workshop : Introduction to Swift Programming**\n",
        "# *Objectives*\n",
        "* Introduction to Swift \n",
        "  * Basics of Swift :  a brief backgound.\n",
        "  * Setting up Swift IDE or REPL Environment.\n",
        "* Hands on with Swift\n",
        "   * Variables and Data Types.\n",
        "   * Varibale Scope and Constants\n",
        "   * Data Structures.\n",
        "   * Control Flow.\n",
        "   * Functions.\n",
        "\n",
        "# *Future Topics*\n",
        "\n",
        "Classes, Packages, UI Development, Swift of AI, Code Optimization and Interoperability.\n",
        "   \n",
        "\n",
        "\n",
        "\n",
        "\n",
        "\n"
      ]
    },
    {
      "cell_type": "markdown",
      "metadata": {
        "id": "OyD0mfouKXkh"
      },
      "source": [
        "\n",
        "# **Introduction to Swift**  \n",
        "  * Swift is a general purpose, compiled programming language which was started by Chris Lattner and team in 2010 and further developed by Apple Inc.\n",
        "  *  Swift is used for modern approach to software design patterns like macOS, iOS, watchOS, tvOS, and beyond. \n",
        "  * Swift developer base has recently grown beyond apple products with support for cross platform operability. \n",
        "  * The heart of the Swift language is its LLVM compiler environment which converts the code to intermediate representation known as LLVM-IR. This allows swift to either compiler the IR to stand along binary or perform JIT (Just In Time) compilation. \n",
        "  * Swift playground in Xcode also allows REPL (Read-Eval-Print loop) to evaluate expressions as soon as they are written.\n",
        "\n",
        "Please visit LLVM, JIT, REPL  for more information.\n",
        "\n",
        "\n",
        "# **Swift _vs._ C++/C _vs._ Python**\n",
        "\n",
        " Swift feels like python but runs like C++/C.\n",
        " \n",
        "# **Ways to run Swift**\n",
        "\n",
        "Three ways to run Julia code: \n",
        "  * the first one is through the Swift REPL (on Terminal),\n",
        "  * through the IDE: Xcode , VSCode_, and\n",
        "  * Cloud Platforms: _Colab, Kaggle, CoCalc etc_.\n",
        "\n"
      ]
    },
    {
      "cell_type": "markdown",
      "metadata": {
        "id": "B4xA45dGI1dJ"
      },
      "source": [
        "# Swift Kernel for Google Colab\n",
        "When making a Swift notebook, copy the official template instead. It contains the commands listed below, which download and compile the Jupyter kernel. Run the first code cell and follow the instructions for restarting the runtime."
      ]
    },
    {
      "cell_type": "code",
      "execution_count": null,
      "metadata": {
        "colab": {
          "base_uri": "https://localhost:8080/"
        },
        "id": "GxXaw1cF8ZC6",
        "outputId": "6437d36d-8843-4c81-defc-9d4aaf18b5d8"
      },
      "outputs": [
        {
          "output_type": "stream",
          "name": "stdout",
          "text": [
            "  % Total    % Received % Xferd  Average Speed   Time    Time     Time  Current\n",
            "                                 Dload  Upload   Total   Spent    Left  Speed\n",
            "100  7845  100  7845    0     0  78450      0 --:--:-- --:--:-- --:--:-- 77673\n",
            "Downloading Swift 5.6.2\n",
            "  % Total    % Received % Xferd  Average Speed   Time    Time     Time  Current\n",
            "                                 Dload  Upload   Total   Spent    Left  Speed\n",
            "100  489M  100  489M    0     0  22.5M      0  0:00:21  0:00:21 --:--:-- 27.3M\n",
            "Cloning into 'swift-colab'...\n",
            "remote: Enumerating objects: 120, done.\u001b[K\n",
            "remote: Counting objects: 100% (120/120), done.\u001b[K\n",
            "remote: Compressing objects: 100% (112/112), done.\u001b[K\n",
            "remote: Total 120 (delta 7), reused 91 (delta 7), pack-reused 0\u001b[K\n",
            "Receiving objects: 100% (120/120), 294.87 KiB | 16.38 MiB/s, done.\n",
            "Resolving deltas: 100% (7/7), done.\n",
            "Compiling Swift LLDB bindings\n",
            "Compiling JupyterKernel\n",
            "Adding symbolic link to JupyterKernel binary\n",
            "Registering Swift Jupyter kernel\n",
            "=== ------------------------------------------------------------------------ ===\n",
            "=== Swift-Colab overwrote the Python kernel with Swift, but Colab is still   ===\n",
            "=== in Python mode. To enter Swift mode, go to Runtime > Restart runtime.    ===\n",
            "=== ------------------------------------------------------------------------ ===\n"
          ]
        }
      ],
      "source": [
        "!curl \"https://raw.githubusercontent.com/philipturner/swift-colab/release/latest/install_swift.sh\" --output \"install_swift.sh\"\n",
        "!bash \"install_swift.sh\" \"5.6.2\" #// Replace 5.6.2 with newest Swift version.\n",
        "#// After this cell finishes, go to Runtime > Restart runtime."
      ]
    },
    {
      "cell_type": "markdown",
      "metadata": {
        "id": "z31uhLtQLvrR"
      },
      "source": [
        "# Constants and Variables\n",
        " *  Declaring Constants and Variables.\n",
        " *  Variable naming convention.\n",
        " *  Use var keyword to define Vairibale."
      ]
    },
    {
      "cell_type": "code",
      "execution_count": null,
      "metadata": {
        "colab": {
          "base_uri": "https://localhost:8080/"
        },
        "id": "gaTEre7X9Epk",
        "outputId": "1acd19b3-b592-440c-a08e-24b010c583ca"
      },
      "outputs": [
        {
          "output_type": "stream",
          "name": "stdout",
          "text": [
            ""
          ]
        }
      ],
      "source": [
        "var abc = \"String\"\n"
      ]
    },
    {
      "cell_type": "markdown",
      "metadata": {
        "id": "aAlZ7zcFNAAK"
      },
      "source": [
        " # Data Type Inferencing\n",
        "   * Data Type can not be changed later.\n",
        "   * But Value can be changed."
      ]
    },
    {
      "cell_type": "code",
      "execution_count": null,
      "metadata": {
        "colab": {
          "base_uri": "https://localhost:8080/",
          "height": 131
        },
        "id": "ZRv70aUgNTCJ",
        "outputId": "56cf504a-3320-4a1d-9e30-4f60209f7a12"
      },
      "outputs": [
        {
          "output_type": "stream",
          "name": "stdout",
          "text": [
            "\u001b[0;31mCompile error: \u001b[0mexpression failed to parse:\n",
            "\u001b[0;1m<Cell 2>:1:7: \u001b[0m\u001b[0;1;31merror: \u001b[0m\u001b[0;1mcannot assign value of type 'Int' to type 'String'\u001b[0m\n",
            "abc = 34\n",
            "\u001b[0;1;32m      ^~\u001b[0m\n"
          ]
        },
        {
          "output_type": "error",
          "ename": "",
          "evalue": "ignored",
          "traceback": []
        }
      ],
      "source": [
        "abc = 34"
      ]
    },
    {
      "cell_type": "code",
      "execution_count": null,
      "metadata": {
        "colab": {
          "base_uri": "https://localhost:8080/"
        },
        "id": "xxr11VV-M-lH",
        "outputId": "dd38f122-21b2-40f2-d0ba-3899136f28a2"
      },
      "outputs": [
        {
          "output_type": "stream",
          "name": "stdout",
          "text": [
            ""
          ]
        }
      ],
      "source": [
        "abc = \"sdfzx\""
      ]
    },
    {
      "cell_type": "code",
      "execution_count": null,
      "metadata": {
        "colab": {
          "base_uri": "https://localhost:8080/"
        },
        "id": "w8mLcUPVMZ-T",
        "outputId": "f93487fc-d361-41ed-b10f-6c6aab617e28"
      },
      "outputs": [
        {
          "output_type": "stream",
          "name": "stdout",
          "text": [
            ""
          ]
        }
      ],
      "source": [
        "var str = \"This is string\"\n",
        "var appleCount = 24"
      ]
    },
    {
      "cell_type": "markdown",
      "metadata": {
        "id": "5tgfAXLDMqM1"
      },
      "source": [
        "## Constants are Immutable\n",
        " * Use Let keyword to define constants.\n",
        " * Once assigned their values can not be changed"
      ]
    },
    {
      "cell_type": "code",
      "execution_count": null,
      "metadata": {
        "colab": {
          "base_uri": "https://localhost:8080/"
        },
        "id": "-_twgF9FMl0G",
        "outputId": "9d961ba8-3621-4916-909c-6a158546fcd9"
      },
      "outputs": [
        {
          "output_type": "stream",
          "name": "stdout",
          "text": [
            ""
          ]
        }
      ],
      "source": [
        "let x = 23"
      ]
    },
    {
      "cell_type": "markdown",
      "metadata": {
        "id": "vHev5iTYNoZg"
      },
      "source": [
        "# Statistically Typed Data Type\n",
        "\n",
        " * To force type use static declarations\n",
        " * Syntax _var name:datatype = value_"
      ]
    },
    {
      "cell_type": "code",
      "execution_count": null,
      "metadata": {
        "colab": {
          "base_uri": "https://localhost:8080/"
        },
        "id": "ejwoVId9N6Ey",
        "outputId": "163188fb-e5d0-48e1-c4a5-2dc318209a87"
      },
      "outputs": [
        {
          "output_type": "stream",
          "name": "stdout",
          "text": [
            ""
          ]
        }
      ],
      "source": [
        "var x:Int = 99\n",
        "let t:String = \"10\""
      ]
    },
    {
      "cell_type": "markdown",
      "metadata": {
        "id": "rdBmCi3NOCSh"
      },
      "source": [
        "# Type Conversion\n",
        "\n",
        "* Wrapper Classes to conver from one Data type to another (Just look them as function for now)\n",
        "* Information is lost if converting from high precesion to low precision numbers\n",
        "\n"
      ]
    },
    {
      "cell_type": "code",
      "execution_count": null,
      "metadata": {
        "colab": {
          "base_uri": "https://localhost:8080/"
        },
        "id": "jF7ozONLOBa5",
        "outputId": "d6021a81-e645-4d34-b28d-d61bcb93cd6a"
      },
      "outputs": [
        {
          "output_type": "stream",
          "name": "stdout",
          "text": [
            "Double\r\n",
            "Int\r\n"
          ]
        }
      ],
      "source": [
        "var x = 3.423\n",
        "print(type(of:x))\n",
        "var y = Int(x)\n",
        "print(type(of:y))"
      ]
    },
    {
      "cell_type": "code",
      "source": [
        "func greet(person: String) -> String {\n",
        "    let greeting = \"Hello, \" + person + \"!\"\n",
        "    return greeting\n",
        "}"
      ],
      "metadata": {
        "colab": {
          "base_uri": "https://localhost:8080/"
        },
        "id": "csHMoL49wbZS",
        "outputId": "12215735-c962-48c9-be4e-d723de261950"
      },
      "execution_count": null,
      "outputs": [
        {
          "output_type": "stream",
          "name": "stdout",
          "text": [
            ""
          ]
        }
      ]
    },
    {
      "cell_type": "code",
      "source": [
        "print(greet(person: \"Brian\"))\n"
      ],
      "metadata": {
        "colab": {
          "base_uri": "https://localhost:8080/"
        },
        "id": "5QDCceMbwXc3",
        "outputId": "b0163953-4522-4f6e-e42e-454c2abf9bc6"
      },
      "execution_count": null,
      "outputs": [
        {
          "output_type": "stream",
          "name": "stdout",
          "text": [
            "Hello, Brian!\r\n"
          ]
        }
      ]
    },
    {
      "cell_type": "markdown",
      "metadata": {
        "id": "uwyMjjrGPkGx"
      },
      "source": [
        "# Comments\n",
        "* Sigle line comments  \"//_______________\"\n",
        "* Multline Comments \"/*_________________*/\"\n",
        "* Same as C++"
      ]
    },
    {
      "cell_type": "code",
      "execution_count": null,
      "metadata": {
        "colab": {
          "base_uri": "https://localhost:8080/"
        },
        "id": "TlN4QqqbP1It",
        "outputId": "e466e977-9553-4c63-a72e-212ad56cf355"
      },
      "outputs": [
        {
          "output_type": "stream",
          "name": "stdout",
          "text": [
            ""
          ]
        }
      ],
      "source": [
        "\n",
        "/*This is \n",
        "Multi Line\n",
        "Comment\n",
        "*/\n",
        "\n",
        "//THis is Simgle LIne Comment"
      ]
    },
    {
      "cell_type": "markdown",
      "metadata": {
        "id": "JL_lFdvfQJ7N"
      },
      "source": [
        "# Can Import Symbols using Unicode \n",
        "\n",
        "   * Symbols can also be used as varibales.\n",
        "   * Same as Python"
      ]
    },
    {
      "cell_type": "code",
      "execution_count": null,
      "metadata": {
        "colab": {
          "base_uri": "https://localhost:8080/"
        },
        "id": "ukxbfVCOQHsi",
        "outputId": "db72d198-1eac-445d-dbf6-7481cd82a89c"
      },
      "outputs": [
        {
          "name": "stdout",
          "output_type": "stream",
          "text": [
            "⍃\n",
            "圴\n"
          ]
        }
      ],
      "source": [
        "var xy = \"\\u{2343}\\n\\u{5734}\"\n",
        "print(xy)"
      ]
    },
    {
      "cell_type": "markdown",
      "metadata": {
        "id": "23Kwy7fHJgCa"
      },
      "source": [
        "# Array and Matrices in Swift\n",
        "* String as character arrays\n",
        "* 2D and 3D matrices\n",
        "* Indexing and Slicing \n"
      ]
    },
    {
      "cell_type": "code",
      "execution_count": null,
      "metadata": {
        "colab": {
          "base_uri": "https://localhost:8080/"
        },
        "id": "VElAYcvLO235",
        "outputId": "26eab92e-0492-4db2-9160-7d698c6d6b34"
      },
      "outputs": [
        {
          "output_type": "stream",
          "name": "stdout",
          "text": [
            ""
          ]
        },
        {
          "output_type": "execute_result",
          "data": {
            "text/plain": [
              "\"ft is Fast and User Friendly\"\n"
            ]
          },
          "metadata": {},
          "execution_count": 12
        }
      ],
      "source": [
        "let text = \"Swift is Fast and User Friendly\"\n",
        "var index1 = text.index(text.startIndex, offsetBy: 3)\n",
        "text[index1...]\n"
      ]
    },
    {
      "cell_type": "code",
      "execution_count": null,
      "metadata": {
        "colab": {
          "base_uri": "https://localhost:8080/"
        },
        "id": "RsagEWL1TCTh",
        "outputId": "9e0b7458-ae9d-4d47-8cad-13d530fcb253"
      },
      "outputs": [
        {
          "output_type": "stream",
          "name": "stdout",
          "text": [
            ""
          ]
        },
        {
          "output_type": "execute_result",
          "data": {
            "text/plain": [
              "\"ft\"\n"
            ]
          },
          "metadata": {},
          "execution_count": 13
        }
      ],
      "source": [
        "var index2 = text.index(text.startIndex, offsetBy: 5)\n",
        "text[index1..<index2]\n"
      ]
    },
    {
      "cell_type": "code",
      "execution_count": null,
      "metadata": {
        "colab": {
          "base_uri": "https://localhost:8080/"
        },
        "id": "kuKOaEH5Tdem",
        "outputId": "9192165a-f0d7-4d3d-d8b1-09a43ade9383"
      },
      "outputs": [
        {
          "output_type": "stream",
          "name": "stdout",
          "text": [
            ""
          ]
        },
        {
          "output_type": "execute_result",
          "data": {
            "text/plain": [
              "\"e\"\n"
            ]
          },
          "metadata": {},
          "execution_count": 49
        }
      ],
      "source": [
        "let text = \"It needs some practice\"\n",
        "text[text.index(text.startIndex, offsetBy:5)]"
      ]
    },
    {
      "cell_type": "code",
      "execution_count": null,
      "metadata": {
        "colab": {
          "base_uri": "https://localhost:8080/"
        },
        "id": "FlN1HRROUHie",
        "outputId": "03c467fb-4902-4976-c1a0-8969f83d4db8"
      },
      "outputs": [
        {
          "output_type": "stream",
          "name": "stdout",
          "text": [
            ""
          ]
        },
        {
          "output_type": "execute_result",
          "data": {
            "text/plain": [
              "\"c\"\n"
            ]
          },
          "metadata": {},
          "execution_count": 50
        }
      ],
      "source": [
        "text[text.index(text.endIndex, offsetBy:-5)]"
      ]
    },
    {
      "cell_type": "markdown",
      "source": [
        "# Accessing Character Before and After\n",
        " * Swift string indices access"
      ],
      "metadata": {
        "id": "P_ElgON_1C3B"
      }
    },
    {
      "cell_type": "code",
      "source": [
        "print(text)\n",
        "text[text.index(before: text.endIndex)]\n"
      ],
      "metadata": {
        "colab": {
          "base_uri": "https://localhost:8080/"
        },
        "id": "K1l5nHwX1CQr",
        "outputId": "49ef7e09-ffd2-49ee-9772-4749da7be633"
      },
      "execution_count": null,
      "outputs": [
        {
          "output_type": "stream",
          "name": "stdout",
          "text": [
            "It needs some practice\r\n"
          ]
        },
        {
          "output_type": "execute_result",
          "data": {
            "text/plain": [
              "\"e\"\n"
            ]
          },
          "metadata": {},
          "execution_count": 52
        }
      ]
    },
    {
      "cell_type": "code",
      "source": [
        "text[text.index(after: text.startIndex)]\n"
      ],
      "metadata": {
        "colab": {
          "base_uri": "https://localhost:8080/"
        },
        "id": "q6n2lDPc1lSI",
        "outputId": "28fb282c-25e8-4ee7-f946-db99c4f7ae09"
      },
      "execution_count": null,
      "outputs": [
        {
          "output_type": "stream",
          "name": "stdout",
          "text": [
            ""
          ]
        },
        {
          "output_type": "execute_result",
          "data": {
            "text/plain": [
              "\"t\"\n"
            ]
          },
          "metadata": {},
          "execution_count": 53
        }
      ]
    },
    {
      "cell_type": "code",
      "execution_count": null,
      "metadata": {
        "colab": {
          "base_uri": "https://localhost:8080/"
        },
        "id": "YRZd5MAITNdn",
        "outputId": "c0d2c134-b53a-4301-9f6e-584d4939ffbb"
      },
      "outputs": [
        {
          "output_type": "stream",
          "name": "stdout",
          "text": [
            ""
          ]
        },
        {
          "output_type": "execute_result",
          "data": {
            "text/plain": [
              "\"needs some practice\"\n"
            ]
          },
          "metadata": {},
          "execution_count": 28
        }
      ],
      "source": [
        "text[index1...]"
      ]
    },
    {
      "cell_type": "markdown",
      "source": [
        "# Multi Line String\n",
        "* use  \"\"\" to represent multi line strings"
      ],
      "metadata": {
        "id": "SMAJFtPgySK6"
      }
    },
    {
      "cell_type": "code",
      "source": [
        "let multilineString = \"\"\"\n",
        "ssavc\n",
        "These are the same. \n",
        "string across multiple lines \n",
        "\\u{1F496}\n",
        "\"\"\""
      ],
      "metadata": {
        "colab": {
          "base_uri": "https://localhost:8080/"
        },
        "id": "5EVux9r5x2jm",
        "outputId": "7473a8d4-2938-4633-9ed2-0730387ce556"
      },
      "execution_count": null,
      "outputs": [
        {
          "output_type": "stream",
          "name": "stdout",
          "text": [
            ""
          ]
        }
      ]
    },
    {
      "cell_type": "code",
      "source": [
        "multilineString"
      ],
      "metadata": {
        "colab": {
          "base_uri": "https://localhost:8080/"
        },
        "id": "j66_0n8-ygba",
        "outputId": "1726ab44-ce21-4ebf-b659-3d20201f5da7"
      },
      "execution_count": null,
      "outputs": [
        {
          "output_type": "stream",
          "name": "stdout",
          "text": [
            ""
          ]
        },
        {
          "output_type": "execute_result",
          "data": {
            "text/plain": [
              "\"ssavc\\nThese are the same. \\nstring across multiple lines \\n💖\"\n"
            ]
          },
          "metadata": {},
          "execution_count": 39
        }
      ]
    },
    {
      "cell_type": "code",
      "source": [
        "text.isEmpty"
      ],
      "metadata": {
        "colab": {
          "base_uri": "https://localhost:8080/"
        },
        "id": "5tu56b0tzZ9U",
        "outputId": "27b41518-fe14-4065-cced-e8492c0223da"
      },
      "execution_count": null,
      "outputs": [
        {
          "output_type": "stream",
          "name": "stdout",
          "text": [
            ""
          ]
        },
        {
          "output_type": "execute_result",
          "data": {
            "text/plain": [
              "false\n"
            ]
          },
          "metadata": {},
          "execution_count": 40
        }
      ]
    },
    {
      "cell_type": "markdown",
      "source": [
        "# String Mutablity\n",
        " * use + operator"
      ],
      "metadata": {
        "id": "74JFRqSvzl34"
      }
    },
    {
      "cell_type": "code",
      "source": [
        "var new_string = \"This is really cool\"\n",
        "new_string += \"But not so easy\"\n",
        "new_string"
      ],
      "metadata": {
        "colab": {
          "base_uri": "https://localhost:8080/"
        },
        "id": "XOHbSv7ozk_W",
        "outputId": "94a97f44-7223-4651-ea73-7ce5c98dae4c"
      },
      "execution_count": null,
      "outputs": [
        {
          "output_type": "stream",
          "name": "stdout",
          "text": [
            ""
          ]
        },
        {
          "output_type": "execute_result",
          "data": {
            "text/plain": [
              "\"This is really coolBut not so easy\"\n"
            ]
          },
          "metadata": {},
          "execution_count": 44
        }
      ]
    },
    {
      "cell_type": "markdown",
      "source": [
        "# String interpolation\n",
        " * Create a whole string from mix of variables and string literals"
      ],
      "metadata": {
        "id": "3laaZe300Wka"
      }
    },
    {
      "cell_type": "code",
      "source": [
        "let multiplier = 3\n",
        "let message = \"\\(multiplier) times 2.5 is \\(Double(multiplier) * 2.5)\"\n",
        "message"
      ],
      "metadata": {
        "colab": {
          "base_uri": "https://localhost:8080/"
        },
        "id": "r7ZpwmFI0V8p",
        "outputId": "1481c8f5-7e25-49ec-b633-941a9273cad2"
      },
      "execution_count": null,
      "outputs": [
        {
          "output_type": "stream",
          "name": "stdout",
          "text": [
            ""
          ]
        },
        {
          "output_type": "execute_result",
          "data": {
            "text/plain": [
              "\"3 times 2.5 is 7.5\"\n"
            ]
          },
          "metadata": {},
          "execution_count": 46
        }
      ]
    },
    {
      "cell_type": "markdown",
      "source": [
        "# 1D arrays\n",
        " * How to manuplate index values"
      ],
      "metadata": {
        "id": "rzsdwqhZxlP_"
      }
    },
    {
      "cell_type": "code",
      "execution_count": null,
      "metadata": {
        "colab": {
          "base_uri": "https://localhost:8080/"
        },
        "id": "rVy1vnGZUcmi",
        "outputId": "661f6077-bb32-4d2d-b3ba-bd0b98660d89"
      },
      "outputs": [
        {
          "output_type": "stream",
          "name": "stdout",
          "text": [
            ""
          ]
        },
        {
          "output_type": "execute_result",
          "data": {
            "text/plain": [
              "▿ 3 elements\n",
              "  - 0 : 1\n",
              "  - 1 : 1\n",
              "  - 2 : 1\n"
            ]
          },
          "metadata": {},
          "execution_count": 22
        }
      ],
      "source": [
        "var name = [Int]()\n",
        "name =  Array(repeating: 1, count: 5)\n",
        "name[2..<5]"
      ]
    },
    {
      "cell_type": "markdown",
      "source": [
        "# 2D Arrays \n",
        "* Can be initialized using nested repeating.\n",
        "* row major access\n",
        "* can be range based indexing"
      ],
      "metadata": {
        "id": "pWoX6jINhAes"
      }
    },
    {
      "cell_type": "code",
      "execution_count": null,
      "metadata": {
        "colab": {
          "base_uri": "https://localhost:8080/"
        },
        "id": "P32Eo2w8LQuy",
        "outputId": "94b53c29-6ff3-454f-8635-bb93d9e4d5dc"
      },
      "outputs": [
        {
          "output_type": "stream",
          "name": "stdout",
          "text": [
            "0\r\n"
          ]
        }
      ],
      "source": [
        "var floor = [[Int]]()\n",
        "floor = Array(repeating: Array(repeating: 0, count: 5), count: 5)\n",
        "\n",
        "print(floor[0][1])"
      ]
    },
    {
      "cell_type": "code",
      "execution_count": null,
      "metadata": {
        "colab": {
          "base_uri": "https://localhost:8080/"
        },
        "id": "WsLz51vSMRa1",
        "outputId": "7b1ab92e-6bd2-4405-955a-6ee197168ea6"
      },
      "outputs": [
        {
          "output_type": "stream",
          "name": "stdout",
          "text": [
            ""
          ]
        }
      ],
      "source": [
        "floor[2][2] = 1 // Center\n",
        "for i in 1..<4 { // 4th row\n",
        "    floor[3][i] = 1\n",
        "}\n",
        "for i in 0..<5 { // Last row\n",
        "    floor[4][i] = 1\n",
        "}"
      ]
    },
    {
      "cell_type": "code",
      "execution_count": null,
      "metadata": {
        "colab": {
          "base_uri": "https://localhost:8080/"
        },
        "id": "JI6amvy3OLcZ",
        "outputId": "145388fc-57a5-4da0-dcb4-00dc96bea04d"
      },
      "outputs": [
        {
          "output_type": "stream",
          "name": "stdout",
          "text": [
            ""
          ]
        },
        {
          "output_type": "execute_result",
          "data": {
            "text/plain": [
              "▿ 4 elements\n",
              "  ▿ 0 : 5 elements\n",
              "    - 0 : 0\n",
              "    - 1 : 0\n",
              "    - 2 : 0\n",
              "    - 3 : 0\n",
              "    - 4 : 0\n",
              "  ▿ 1 : 5 elements\n",
              "    - 0 : 0\n",
              "    - 1 : 0\n",
              "    - 2 : 0\n",
              "    - 3 : 0\n",
              "    - 4 : 0\n",
              "  ▿ 2 : 5 elements\n",
              "    - 0 : 0\n",
              "    - 1 : 0\n",
              "    - 2 : 1\n",
              "    - 3 : 0\n",
              "    - 4 : 0\n",
              "  ▿ 3 : 5 elements\n",
              "    - 0 : 0\n",
              "    - 1 : 1\n",
              "    - 2 : 1\n",
              "    - 3 : 1\n",
              "    - 4 : 0\n"
            ]
          },
          "metadata": {},
          "execution_count": 60
        }
      ],
      "source": [
        "floor[0..<4]"
      ]
    },
    {
      "cell_type": "markdown",
      "source": [
        "# d-dimensional Arrays\n",
        "* The concept of nested 2D and 3D arrays can be extended to d-dimensions.\n",
        "* indexing Similary to C++ or python with square brackets []."
      ],
      "metadata": {
        "id": "5afTxHdWhftA"
      }
    },
    {
      "cell_type": "code",
      "execution_count": null,
      "metadata": {
        "colab": {
          "base_uri": "https://localhost:8080/"
        },
        "id": "RkZKC-ZzM2US",
        "outputId": "b1f61daf-fd5b-4ea7-c8a0-7cd2a2f2e8d9"
      },
      "outputs": [
        {
          "output_type": "stream",
          "name": "stdout",
          "text": [
            ""
          ]
        }
      ],
      "source": [
        "var floor = [[[Int]]]()\n",
        "floor = Array(repeating: Array(repeating: Array(repeating: 0, count: 5), count: 5), count: 3)\n"
      ]
    },
    {
      "cell_type": "code",
      "execution_count": null,
      "metadata": {
        "colab": {
          "base_uri": "https://localhost:8080/"
        },
        "id": "vkSzRh3KNCmB",
        "outputId": "759889df-5dee-4636-da90-90ec2837f675"
      },
      "outputs": [
        {
          "output_type": "stream",
          "name": "stdout",
          "text": [
            "level: 1\r\n",
            "0 0 0 0 0  \r\n",
            "0 0 0 0 0  \r\n",
            "0 0 0 0 0  \r\n",
            "0 0 0 0 0  \r\n",
            "0 0 0 0 0  \r\n",
            "-----------------\r\n",
            "level: 2\r\n",
            "0 0 0 0 0  \r\n",
            "0 0 0 0 0  \r\n",
            "0 0 0 0 0  \r\n",
            "0 0 0 0 0  \r\n",
            "0 0 0 0 0  \r\n",
            "-----------------\r\n",
            "level: 3\r\n",
            "0 0 0 0 0  \r\n",
            "0 0 0 0 0  \r\n",
            "0 0 0 0 0  \r\n",
            "0 0 0 0 0  \r\n",
            "0 0 0 0 0  \r\n",
            "-----------------\r\n"
          ]
        }
      ],
      "source": [
        "var level = 1\n",
        "\n",
        "for fl in floor {\n",
        "    print(\"level: \\(level)\")\n",
        "    level += 1\n",
        "    for array in fl {\n",
        "        for value in array {\n",
        "            print(value, terminator: \" \")\n",
        "        }\n",
        "        print(\" \")\n",
        "    }\n",
        "    print(\"-----------------\")\n",
        "}"
      ]
    },
    {
      "cell_type": "markdown",
      "metadata": {
        "id": "KpRKuZ8HQfPX"
      },
      "source": [
        "# Conditional Statements\n",
        "   * If Statement\n",
        "   * If Else Statement\n",
        "   * Nested If Else Statements\n",
        "   * Switch Statements"
      ]
    },
    {
      "cell_type": "code",
      "execution_count": null,
      "metadata": {
        "colab": {
          "base_uri": "https://localhost:8080/"
        },
        "id": "astnwlOiQeh1",
        "outputId": "a8245f57-854b-4874-d56a-85fa1a4f2b7e"
      },
      "outputs": [
        {
          "output_type": "stream",
          "name": "stdout",
          "text": [
            ""
          ]
        }
      ],
      "source": [
        "if x == 9{\n",
        "    print(\"x===9\")\n",
        "}"
      ]
    },
    {
      "cell_type": "markdown",
      "metadata": {
        "id": "X753MHLgQvKp"
      },
      "source": [
        "* If Else Statemnt"
      ]
    },
    {
      "cell_type": "code",
      "execution_count": null,
      "metadata": {
        "colab": {
          "base_uri": "https://localhost:8080/"
        },
        "id": "pPe3EBh-Qz27",
        "outputId": "3cf9f886-2ae0-469e-835b-4f2c8859539f"
      },
      "outputs": [
        {
          "output_type": "stream",
          "name": "stdout",
          "text": [
            "none\r\n"
          ]
        }
      ],
      "source": [
        "var xy  = \"song\"\n",
        "if xy == \"s\"{\n",
        "    print(xy)\n",
        "}\n",
        "else{\n",
        "    print(\"none\")\n",
        "}"
      ]
    },
    {
      "cell_type": "markdown",
      "metadata": {
        "id": "hyP1iTzIQ4gy"
      },
      "source": [
        "* Nested If Else Statements"
      ]
    },
    {
      "cell_type": "code",
      "execution_count": null,
      "metadata": {
        "colab": {
          "base_uri": "https://localhost:8080/"
        },
        "id": "TtzVGrr2Q8Dv",
        "outputId": "b6edd92c-6b3e-4865-bfa7-176b96c99d8c"
      },
      "outputs": [
        {
          "output_type": "stream",
          "name": "stdout",
          "text": [
            "song\r\n"
          ]
        }
      ],
      "source": [
        "if xy != \"a\" {\n",
        "    print(xy)\n",
        "}\n",
        "else if xy == \"song\" {\n",
        "    print(\"Yes this is song\")\n",
        "}\n",
        "else {\n",
        "    print(\"None\")\n",
        "}"
      ]
    },
    {
      "cell_type": "markdown",
      "metadata": {
        "id": "I9AvVCt0RauS"
      },
      "source": [
        "* Switch Statement"
      ]
    },
    {
      "cell_type": "code",
      "execution_count": null,
      "metadata": {
        "colab": {
          "base_uri": "https://localhost:8080/"
        },
        "id": "6fnIq9Qr9L5D",
        "outputId": "5e2a8d4f-983f-430c-fdcf-008122bd86af"
      },
      "outputs": [
        {
          "output_type": "stream",
          "name": "stdout",
          "text": [
            "asFZc\r\n"
          ]
        }
      ],
      "source": [
        "var s = 90\n",
        "switch s {\n",
        "    case 34:\n",
        "            print(\"Here\")\n",
        "    case 234, 41:\n",
        "        print(\"sfsaf\")\n",
        "    case 234:\n",
        "         print(\"sazfca\") \n",
        "    case 5..<12:\n",
        "          print(\"Sdfsc\")\n",
        "    default:\n",
        "     print(\"asFZc\")\n",
        "}\n"
      ]
    },
    {
      "cell_type": "markdown",
      "metadata": {
        "id": "fQAV-CjARh23"
      },
      "source": [
        "# Control Flow\n",
        "   * looping Constructs\n",
        "   * For Loop\n",
        "   * While loop\n",
        "   * Repeat-while Loop\n"
      ]
    },
    {
      "cell_type": "code",
      "execution_count": null,
      "metadata": {
        "colab": {
          "base_uri": "https://localhost:8080/"
        },
        "id": "2izt50CbRivU",
        "outputId": "9db9a02d-7809-4c06-b049-c00071d82e65"
      },
      "outputs": [
        {
          "output_type": "stream",
          "name": "stdout",
          "text": [
            "1\r\n",
            "2\r\n",
            "3\r\n",
            "4\r\n"
          ]
        }
      ],
      "source": [
        "var num = 0\n",
        "\n",
        "for xr in 1...4{\n",
        "    print(xr)\n",
        "}\n",
        "\n"
      ]
    },
    {
      "cell_type": "code",
      "execution_count": null,
      "metadata": {
        "colab": {
          "base_uri": "https://localhost:8080/"
        },
        "id": "BUs2hDIZMj3a",
        "outputId": "0223880a-47e2-40f7-a233-44f0e601f008"
      },
      "outputs": [
        {
          "output_type": "stream",
          "name": "stdout",
          "text": [
            "1\r\n",
            "2\r\n",
            "3\r\n"
          ]
        }
      ],
      "source": [
        "for i in 1..<4{\n",
        "    print(i)\n",
        "}"
      ]
    },
    {
      "cell_type": "markdown",
      "metadata": {
        "id": "Qx-X1gAoRyrZ"
      },
      "source": [
        "* Strides for For loop to set versatile range patterns"
      ]
    },
    {
      "cell_type": "code",
      "execution_count": null,
      "metadata": {
        "id": "JgxjingwRx65",
        "colab": {
          "base_uri": "https://localhost:8080/"
        },
        "outputId": "a9caee1b-20d4-4592-dadd-f28356d120d0"
      },
      "outputs": [
        {
          "output_type": "stream",
          "name": "stdout",
          "text": [
            "5\r\n",
            "4\r\n",
            "3\r\n",
            "2\r\n"
          ]
        }
      ],
      "source": [
        "for xr in stride(from: 5,to: 1,by:-1){\n",
        "    print(xr)\n",
        "}"
      ]
    },
    {
      "cell_type": "markdown",
      "metadata": {
        "id": "Vs_sL09FR5fk"
      },
      "source": [
        "* While loop and Termination Condition\n"
      ]
    },
    {
      "cell_type": "code",
      "execution_count": null,
      "metadata": {
        "id": "xXAIbrj6R6bZ",
        "colab": {
          "base_uri": "https://localhost:8080/"
        },
        "outputId": "3ad35aa1-4bfb-4da6-935e-2131616986ab"
      },
      "outputs": [
        {
          "output_type": "stream",
          "name": "stdout",
          "text": [
            ""
          ]
        }
      ],
      "source": [
        "\n",
        "while num<10{\n",
        "\n",
        "   num = num + 1\n",
        "}"
      ]
    },
    {
      "cell_type": "markdown",
      "metadata": {
        "id": "2JQoa79cSFbw"
      },
      "source": [
        "* Repeat While Loop\n",
        "* how is it different for while loop"
      ]
    },
    {
      "cell_type": "code",
      "execution_count": null,
      "metadata": {
        "id": "CPoCHPHBSDbB",
        "colab": {
          "base_uri": "https://localhost:8080/"
        },
        "outputId": "0cf1c0c2-6537-40a2-b1a6-172826489cbe"
      },
      "outputs": [
        {
          "output_type": "stream",
          "name": "stdout",
          "text": [
            ""
          ]
        }
      ],
      "source": [
        "repeat {\n",
        "    num = num+1\n",
        "}while(num<30)"
      ]
    },
    {
      "cell_type": "markdown",
      "metadata": {
        "id": "RW9pXXzjSNbH"
      },
      "source": [
        "# Functions/ Modules/ Routines\n",
        "\n",
        "  * Set of reusable code\n",
        "  * Drastically reduce the code length for repetetive patterns\n",
        "  * Syntax for function Definition"
      ]
    },
    {
      "cell_type": "code",
      "execution_count": null,
      "metadata": {
        "id": "WaaOTi8tSYs6",
        "colab": {
          "base_uri": "https://localhost:8080/"
        },
        "outputId": "b78442a1-b9cb-411b-e182-32d117e9b765"
      },
      "outputs": [
        {
          "output_type": "stream",
          "name": "stdout",
          "text": [
            ""
          ]
        }
      ],
      "source": [
        "\n",
        "func print123(){\n",
        "    print(\"Hello\")\n",
        "}\n"
      ]
    },
    {
      "cell_type": "markdown",
      "metadata": {
        "id": "5niF5GLgSgsg"
      },
      "source": [
        "\n",
        "* Function with return statement anf Parameters\n"
      ]
    },
    {
      "cell_type": "code",
      "execution_count": null,
      "metadata": {
        "id": "DldwejU7Sft0",
        "colab": {
          "base_uri": "https://localhost:8080/"
        },
        "outputId": "84e638f5-123a-4102-94ae-0eb4c6d4a730"
      },
      "outputs": [
        {
          "output_type": "stream",
          "name": "stdout",
          "text": [
            "66\r\n"
          ]
        }
      ],
      "source": [
        "\n",
        "\n",
        "func add(arg1 par1:Int,arg2 par2:Int)->Int{\n",
        "\n",
        "    return par1+par2\n",
        "}\n",
        "\n",
        "print(add(arg1: 34, arg2 :32))\n",
        "\n"
      ]
    },
    {
      "cell_type": "markdown",
      "source": [
        "# What we have Learned\n",
        "* variables and constants\n",
        "* strings and arrays\n",
        "* 1D, 2D and nd Matrices\n",
        "* Conditional statements\n",
        "* Control Flow\n",
        "# Future Topics\n",
        "* App Designing With Swift\n",
        "* UI Designing\n",
        "* Integrating UI with Back End\n",
        "* Interoperatability\n",
        "\n",
        "\n"
      ],
      "metadata": {
        "id": "Vqgyxhwn3hOM"
      }
    },
    {
      "cell_type": "markdown",
      "source": [
        "# More Information\n",
        "\n",
        "* Read official Swift Documentaion at [link](https://www.swift.org/documentation/).\n",
        "* Other Resources : [Tutorials](https://www.tutorialspoint.com/swift/index.htm)"
      ],
      "metadata": {
        "id": "GV5BsMG44ZL_"
      }
    }
  ],
  "metadata": {
    "colab": {
      "collapsed_sections": [],
      "name": "SwiftProgramming.ipynb",
      "provenance": [],
      "include_colab_link": true
    },
    "kernelspec": {
      "display_name": "Python 3 (ipykernel)",
      "language": "python",
      "name": "python3"
    },
    "language_info": {
      "codemirror_mode": {
        "name": "ipython",
        "version": 3
      },
      "file_extension": ".py",
      "mimetype": "text/x-python",
      "name": "python",
      "nbconvert_exporter": "python",
      "pygments_lexer": "ipython3",
      "version": "3.9.12"
    }
  },
  "nbformat": 4,
  "nbformat_minor": 0
}