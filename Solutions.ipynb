{
  "nbformat": 4,
  "nbformat_minor": 0,
  "metadata": {
    "colab": {
      "name": "Solutions.ipynb",
      "provenance": [],
      "authorship_tag": "ABX9TyNZhFPXvoIgKyf+vbgc+uJY",
      "include_colab_link": true
    },
    "kernelspec": {
      "name": "python3",
      "display_name": "Python 3"
    },
    "language_info": {
      "name": "python"
    }
  },
  "cells": [
    {
      "cell_type": "markdown",
      "metadata": {
        "id": "view-in-github",
        "colab_type": "text"
      },
      "source": [
        "<a href=\"https://colab.research.google.com/github/CEASLIBRARY/Introduction-to-Swift/blob/main/Solutions.ipynb\" target=\"_parent\"><img src=\"https://colab.research.google.com/assets/colab-badge.svg\" alt=\"Open In Colab\"/></a>"
      ]
    },
    {
      "cell_type": "code",
      "execution_count": null,
      "metadata": {
        "id": "9Xbl00KocEHC"
      },
      "outputs": [],
      "source": [
        "var principal_amount = 10000.0\n",
        "var rate_interest = 8.0/100.0 //Percentage\n",
        "var n = 1.0 // interest is compounded once every year\n",
        "var time = 9.0 //Years\n",
        "// Compute  by plugging variables in above equation\n",
        "var Final_amount = principal_amount*pow(1+rate_interest,time)\n",
        "print(Final_amount)"
      ]
    }
  ]
}