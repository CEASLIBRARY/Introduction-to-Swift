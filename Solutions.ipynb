{
  "nbformat": 4,
  "nbformat_minor": 0,
  "metadata": {
    "colab": {
      "name": "Solutions.ipynb",
      "provenance": [],
      "authorship_tag": "ABX9TyO9vMT9DPP6KyHa9GG1EqkD",
      "include_colab_link": true
    },
    "kernelspec": {
      "name": "python3",
      "display_name": "Python 3"
    },
    "language_info": {
      "name": "python"
    }
  },
  "cells": [
    {
      "cell_type": "markdown",
      "metadata": {
        "id": "view-in-github",
        "colab_type": "text"
      },
      "source": [
        "<a href=\"https://colab.research.google.com/github/CEASLIBRARY/Introduction-to-Swift/blob/main/Solutions.ipynb\" target=\"_parent\"><img src=\"https://colab.research.google.com/assets/colab-badge.svg\" alt=\"Open In Colab\"/></a>"
      ]
    },
    {
      "cell_type": "markdown",
      "source": [
        "# Exercise 1"
      ],
      "metadata": {
        "id": "rpYRUHjQqOC9"
      }
    },
    {
      "cell_type": "code",
      "execution_count": null,
      "metadata": {
        "id": "9Xbl00KocEHC"
      },
      "outputs": [],
      "source": [
        "//Exercise 1\n",
        "\n",
        "var principal_amount = 10000.0\n",
        "var rate_interest = 8.0/100.0 //Percentage\n",
        "var n = 1.0 // interest is compounded once every year\n",
        "var time = 9.0 //Years\n",
        "// Compute  by plugging variables in above equation\n",
        "var Final_amount = principal_amount*pow(1+rate_interest,time)\n",
        "print(Final_amount)"
      ]
    },
    {
      "cell_type": "markdown",
      "source": [
        "# Exercise 2"
      ],
      "metadata": {
        "id": "YMPnxkRVqLYB"
      }
    },
    {
      "cell_type": "code",
      "source": [
        "//Exercise 2\n",
        "var firstname = \"Rohit\"\n",
        "var lastname = \"Singh\"\n",
        "var required_length = 0\n",
        "var sixplustwo = \"\"\n",
        "if(firstname.count>=6){   // If First name is of length greater than 6 : follow the then part\n",
        "    sixplustwo = String(Array(firstname)[0..<6])\n",
        "    sixplustwo += String(Array(lastname)[0])\n",
        "    sixplustwo += String(Array(lastname)[lastname.count-1])\n",
        "}\n",
        "else{\n",
        "    sixplustwo = firstname // // If First name is of length less than 6 : follow the else part\n",
        "    required_length = 6-firstname.count\n",
        "    sixplustwo += String(Array(lastname)[0..<required_length])\n",
        "    sixplustwo += String(Array(lastname)[required_length])\n",
        "    sixplustwo += String(Array(lastname)[lastname.count-1])\n",
        "}\n",
        "print(sixplustwo.lowercased)"
      ],
      "metadata": {
        "id": "pXM2EX1EcPAv"
      },
      "execution_count": null,
      "outputs": []
    },
    {
      "cell_type": "markdown",
      "source": [
        "# Exercise 3"
      ],
      "metadata": {
        "id": "yeBsNBwIqE6E"
      }
    },
    {
      "cell_type": "code",
      "source": [
        "var count = 20\n",
        "for x in 2... {      // Execute the loop till infinity\n",
        "    var valid = true\n",
        "    for y in 2..<x{   // Check for each number for primality\n",
        "        if(x%y == 0){\n",
        "          valid = false   // If divisible not a Prime return False\n",
        "         break\n",
        "       }\n",
        "    }\n",
        "    if(valid){   // If not divisible by any number less than itself and one\n",
        "        print(x)   \n",
        "        count -= 1   // Decrease the Required Count\n",
        "        if(count == 0){  // If all nuber are printed stop\n",
        "          break\n",
        "       }\n",
        "  }\n",
        "}"
      ],
      "metadata": {
        "id": "JpmlniLEqFcw"
      },
      "execution_count": null,
      "outputs": []
    }
  ]
}